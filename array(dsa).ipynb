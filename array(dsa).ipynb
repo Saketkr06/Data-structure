{
 "cells": [
  {
   "cell_type": "code",
   "execution_count": 2,
   "id": "fff25f32",
   "metadata": {},
   "outputs": [],
   "source": [
    "a=[2200,2350,2600,2130,2190]"
   ]
  },
  {
   "cell_type": "code",
   "execution_count": 7,
   "id": "550091bc",
   "metadata": {},
   "outputs": [
    {
     "data": {
      "text/plain": [
       "150"
      ]
     },
     "execution_count": 7,
     "metadata": {},
     "output_type": "execute_result"
    }
   ],
   "source": [
    "a[1]-a[0]"
   ]
  },
  {
   "cell_type": "code",
   "execution_count": 9,
   "id": "42834117",
   "metadata": {},
   "outputs": [
    {
     "name": "stdout",
     "output_type": "stream",
     "text": [
      "not present\n",
      "not present\n",
      "not present\n",
      "not present\n",
      "not present\n"
     ]
    }
   ],
   "source": [
    "for i in range(len(a)):\n",
    "    if a[i]==2000:\n",
    "        print(i)\n",
    "    else:\n",
    "        print(\"not present\")"
   ]
  },
  {
   "cell_type": "code",
   "execution_count": 10,
   "id": "5b15f340",
   "metadata": {},
   "outputs": [
    {
     "data": {
      "text/plain": [
       "7150"
      ]
     },
     "execution_count": 10,
     "metadata": {},
     "output_type": "execute_result"
    }
   ],
   "source": [
    "a[0]+a[1]+a[2]"
   ]
  },
  {
   "cell_type": "code",
   "execution_count": 12,
   "id": "92f74d12",
   "metadata": {},
   "outputs": [],
   "source": [
    "a.append(1980)"
   ]
  },
  {
   "cell_type": "code",
   "execution_count": 13,
   "id": "47f50ddc",
   "metadata": {},
   "outputs": [
    {
     "data": {
      "text/plain": [
       "[2200, 2350, 2600, 2130, 2190, 1980]"
      ]
     },
     "execution_count": 13,
     "metadata": {},
     "output_type": "execute_result"
    }
   ],
   "source": [
    "a"
   ]
  },
  {
   "cell_type": "code",
   "execution_count": 14,
   "id": "a74cd046",
   "metadata": {},
   "outputs": [],
   "source": [
    "a[3]=2600-200"
   ]
  },
  {
   "cell_type": "code",
   "execution_count": 15,
   "id": "1d879673",
   "metadata": {},
   "outputs": [
    {
     "data": {
      "text/plain": [
       "[2200, 2350, 2600, 2400, 2190, 1980]"
      ]
     },
     "execution_count": 15,
     "metadata": {},
     "output_type": "execute_result"
    }
   ],
   "source": [
    "a"
   ]
  },
  {
   "cell_type": "code",
   "execution_count": 16,
   "id": "42bef372",
   "metadata": {},
   "outputs": [
    {
     "data": {
      "text/plain": [
       "False"
      ]
     },
     "execution_count": 16,
     "metadata": {},
     "output_type": "execute_result"
    }
   ],
   "source": [
    "2000 in a"
   ]
  },
  {
   "cell_type": "code",
   "execution_count": 17,
   "id": "f94e95e9",
   "metadata": {},
   "outputs": [],
   "source": [
    "heros=['spider man','thor','hulk','iron man','captain america']"
   ]
  },
  {
   "cell_type": "code",
   "execution_count": 18,
   "id": "2afb4bc0",
   "metadata": {},
   "outputs": [
    {
     "data": {
      "text/plain": [
       "5"
      ]
     },
     "execution_count": 18,
     "metadata": {},
     "output_type": "execute_result"
    }
   ],
   "source": [
    "len(heros)"
   ]
  },
  {
   "cell_type": "code",
   "execution_count": 19,
   "id": "84cfc9ac",
   "metadata": {},
   "outputs": [],
   "source": [
    "heros.append(\"black panther\")"
   ]
  },
  {
   "cell_type": "code",
   "execution_count": 20,
   "id": "12b0c785",
   "metadata": {},
   "outputs": [],
   "source": [
    "heros.remove(\"black panther\")"
   ]
  },
  {
   "cell_type": "code",
   "execution_count": 21,
   "id": "4e64dcc4",
   "metadata": {},
   "outputs": [],
   "source": [
    "heros.insert(2,\"black panther\")"
   ]
  },
  {
   "cell_type": "code",
   "execution_count": 22,
   "id": "d9ccc4fa",
   "metadata": {},
   "outputs": [
    {
     "data": {
      "text/plain": [
       "['spider man', 'thor', 'black panther', 'hulk', 'iron man', 'captain america']"
      ]
     },
     "execution_count": 22,
     "metadata": {},
     "output_type": "execute_result"
    }
   ],
   "source": [
    "heros"
   ]
  },
  {
   "cell_type": "code",
   "execution_count": 23,
   "id": "60c77615",
   "metadata": {},
   "outputs": [],
   "source": [
    "heros.remove(\"hulk\")"
   ]
  },
  {
   "cell_type": "code",
   "execution_count": 24,
   "id": "99622ed0",
   "metadata": {},
   "outputs": [],
   "source": [
    "heros.remove(\"thor\")"
   ]
  },
  {
   "cell_type": "code",
   "execution_count": 25,
   "id": "c10bdd0f",
   "metadata": {},
   "outputs": [],
   "source": [
    "heros.append(\"strange\")"
   ]
  },
  {
   "cell_type": "code",
   "execution_count": 26,
   "id": "295ca308",
   "metadata": {},
   "outputs": [],
   "source": [
    "heros.sort()"
   ]
  },
  {
   "cell_type": "code",
   "execution_count": 27,
   "id": "4506d721",
   "metadata": {},
   "outputs": [
    {
     "data": {
      "text/plain": [
       "['black panther', 'captain america', 'iron man', 'spider man', 'strange']"
      ]
     },
     "execution_count": 27,
     "metadata": {},
     "output_type": "execute_result"
    }
   ],
   "source": [
    "heros"
   ]
  },
  {
   "cell_type": "code",
   "execution_count": 28,
   "id": "f1244193",
   "metadata": {},
   "outputs": [
    {
     "name": "stdout",
     "output_type": "stream",
     "text": [
      "enter84\n",
      "[1, 3, 5, 7, 9, 11, 13, 15, 17, 19, 21, 23, 25, 27, 29, 31, 33, 35, 37, 39, 41, 43, 45, 47, 49, 51, 53, 55, 57, 59, 61, 63, 65, 67, 69, 71, 73, 75, 77, 79, 81, 83]\n"
     ]
    }
   ],
   "source": [
    "a=int(input(\"enter\"))\n",
    "c=[]\n",
    "for i in range(1,a+1):\n",
    "    if i%2 !=0:\n",
    "        c.append(i)\n",
    "print(c)\n",
    "    "
   ]
  },
  {
   "cell_type": "code",
   "execution_count": null,
   "id": "72d4a6c2",
   "metadata": {},
   "outputs": [],
   "source": []
  }
 ],
 "metadata": {
  "kernelspec": {
   "display_name": "Python 3 (ipykernel)",
   "language": "python",
   "name": "python3"
  },
  "language_info": {
   "codemirror_mode": {
    "name": "ipython",
    "version": 3
   },
   "file_extension": ".py",
   "mimetype": "text/x-python",
   "name": "python",
   "nbconvert_exporter": "python",
   "pygments_lexer": "ipython3",
   "version": "3.9.12"
  }
 },
 "nbformat": 4,
 "nbformat_minor": 5
}
